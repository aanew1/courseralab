{
 "cells": [
  {
   "cell_type": "markdown",
   "id": "3fb55c2f-7e3c-460a-8c40-b182ca8ab8bf",
   "metadata": {},
   "source": [
    "# Data Science Tools and Ecosystem"
   ]
  },
  {
   "cell_type": "markdown",
   "id": "cc3ed1dc-ab9a-4f88-a5a4-2e8cd80cc09d",
   "metadata": {},
   "source": [
    "## In this notebook, Data Science Tools and Ecosystem are summarized."
   ]
  },
  {
   "cell_type": "markdown",
   "id": "666a0163-a38e-4d83-ae16-a2101832eae9",
   "metadata": {},
   "source": [
    "**Objectives:**\n",
    "+  list data science languages\n",
    "+  list data science libraries\n",
    "+  create a table of Data Science tools"
   ]
  },
  {
   "cell_type": "markdown",
   "id": "bb2b9d34-bcb5-46fa-9819-e52f605aa81b",
   "metadata": {},
   "source": [
    "Some of the popular languages that Data Scientists use are:\n",
    "1. SQL\n",
    "2. R\n",
    "3. Python"
   ]
  },
  {
   "cell_type": "markdown",
   "id": "9a289376-5cc2-44f0-999c-d4004e015f10",
   "metadata": {},
   "source": [
    "Some of the commonly used libraries used by Data Scientists include:\n",
    "1. pandas\n",
    "2. numpy\n",
    "3. matplotlib\n"
   ]
  },
  {
   "cell_type": "markdown",
   "id": "84e1845a-098e-4c73-92d9-6010e08fe49d",
   "metadata": {},
   "source": [
    "| Data Science Tools |\n",
    "| ------------------ |\n",
    "| Jupyter notebook |\n",
    "| Jupyter lite |\n",
    "| Google colaboratory |"
   ]
  },
  {
   "cell_type": "markdown",
   "id": "c4cfe427-d22d-4316-bede-3890586a4863",
   "metadata": {},
   "source": [
    "### Below are a few examples of evaluating arithmetic expressions in Python"
   ]
  },
  {
   "cell_type": "code",
   "execution_count": 15,
   "id": "f4e0b5fd-4367-45f9-a8c8-7b94790ea84c",
   "metadata": {},
   "outputs": [
    {
     "data": {
      "text/plain": [
       "17"
      ]
     },
     "execution_count": 15,
     "metadata": {},
     "output_type": "execute_result"
    }
   ],
   "source": [
    "#This a simple arithmetic expression to mutiply then add integers\n",
    "(3*4)+5"
   ]
  },
  {
   "cell_type": "code",
   "execution_count": 17,
   "id": "e2b9b64a-e92f-431a-9e3c-1267ab4b7afa",
   "metadata": {},
   "outputs": [
    {
     "data": {
      "text/plain": [
       "3.3333333333333335"
      ]
     },
     "execution_count": 17,
     "metadata": {},
     "output_type": "execute_result"
    }
   ],
   "source": [
    "#This will convert 200 minutes to hours by diving by 60\n",
    "200/60"
   ]
  },
  {
   "cell_type": "markdown",
   "id": "a3f1c513-11fd-4b49-8522-33d7f61c6184",
   "metadata": {},
   "source": [
    "## Author\n",
    "Abigail New"
   ]
  },
  {
   "cell_type": "code",
   "execution_count": null,
   "id": "7c12f8ea-a752-4a7e-8130-0c99624a3abe",
   "metadata": {},
   "outputs": [],
   "source": []
  }
 ],
 "metadata": {
  "kernelspec": {
   "display_name": "Python 3 (ipykernel)",
   "language": "python",
   "name": "python3"
  },
  "language_info": {
   "codemirror_mode": {
    "name": "ipython",
    "version": 3
   },
   "file_extension": ".py",
   "mimetype": "text/x-python",
   "name": "python",
   "nbconvert_exporter": "python",
   "pygments_lexer": "ipython3",
   "version": "3.12.4"
  }
 },
 "nbformat": 4,
 "nbformat_minor": 5
}
